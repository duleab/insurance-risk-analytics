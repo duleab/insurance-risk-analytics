{
 "cells": [
  {
   "cell_type": "markdown",
   "metadata": {},
   "source": [
    "# Exploratory Data Analysis - Insurance Risk Analytics\n",
    "\n",
    "This notebook contains exploratory data analysis for the AlphaCare Insurance Solutions (ACIS) project. We'll analyze historical claims data to identify low-risk customer segments for targeted premium reductions."
   ]
  },
  {
   "cell_type": "code",
   "execution_count": null,
   "metadata": {},
   "outputs": [],
   "source": [
    "# Import necessary libraries\n",
    "import pandas as pd\n",
    "import numpy as np\n",
    "import matplotlib.pyplot as plt\n",
    "import seaborn as sns\n",
    "import os\n",
    "\n",
    "# Set plotting style\n",
    "sns.set_theme(style=\"whitegrid\")\n",
    "plt.rcParams[\"figure.figsize\"] = (12, 8)\n",
    "plt.rcParams[\"font.size\"] = 12"
   ]
  },
  {
   "cell_type": "markdown",
   "metadata": {},
   "source": [
    "## 1. Data Generation\n",
    "\n",
    "For this notebook, we'll create synthetic data for demonstration purposes."
   ]
  },
  {
   "cell_type": "code",
   "execution_count": null,
   "metadata": {},
   "outputs": [],
   "source": [
    "# Generate synthetic data\n",
    "np.random.seed(42)\n",
    "n_samples = 1000\n",
    "\n",
    "# Create dummy data\n",
    "df = pd.DataFrame({\n",
    "    'PolicyID': range(1, n_samples + 1),\n",
    "    'Province': np.random.choice(['Western Cape', 'Gauteng', 'KwaZulu-Natal', 'Eastern Cape'], n_samples),\n",
    "    'Gender': np.random.choice(['M', 'F'], n_samples),\n",
    "    'VehicleType': np.random.choice(['Sedan', 'SUV', 'Hatchback', 'Truck', 'Sports'], n_samples),\n",
    "    'VehicleMake': np.random.choice(['Toyota', 'Volkswagen', 'Ford', 'BMW', 'Mercedes'], n_samples),\n",
    "    'CustomValueEstimate': np.random.normal(200000, 50000, n_samples),\n",
    "    'TotalPremium': np.random.normal(5000, 1000, n_samples),\n",
    "    'TotalClaims': np.random.exponential(2000, n_samples) * np.random.binomial(1, 0.2, n_samples),\n",
    "    'PolicyStartDate': pd.date_range(start='2014-02-01', periods=n_samples)\n",
    "})\n",
    "\n",
    "print(f\"Created synthetic data. Shape: {df.shape}\")"
   ]
  },
  {
   "cell_type": "markdown",
   "metadata": {},
   "source": [
    "## 2. Data Overview"
   ]
  },
  {
   "cell_type": "code",
   "execution_count": null,
   "metadata": {},
   "outputs": [],
   "source": [
    "# Display basic information\n",
    "print(\"Dataset shape:\")\n",
    "print(df.shape)\n",
    "\n",
    "print(\"\\nColumn names:\")\n",
    "print(df.columns.tolist())\n",
    "\n",
    "print(\"\\nData types:\")\n",
    "print(df.dtypes)\n",
    "\n",
    "print(\"\\nMissing values:\")\n",
    "print(df.isnull().sum())"
   ]
  },
  {
   "cell_type": "code",
   "execution_count": null,
   "metadata": {},
   "outputs": [],
   "source": [
    "# Display sample data\n",
    "df.head()"
   ]
  },
  {
   "cell_type": "code",
   "execution_count": null,
   "metadata": {},
   "outputs": [],
   "source": [
    "# Display summary statistics\n",
    "df.describe(include='all').T"
   ]
  },
  {
   "cell_type": "markdown",
   "metadata": {},
   "source": [
    "## 3. Data Preprocessing"
   ]
  },
  {
   "cell_type": "code",
   "execution_count": null,
   "metadata": {},
   "outputs": [],
   "source": [
    "# Create a copy for preprocessing\n",
    "df_processed = df.copy()\n",
    "\n",
    "# Calculate loss ratio\n",
    "df_processed['LossRatio'] = df_processed['TotalClaims'] / df_processed['TotalPremium']\n",
    "\n",
    "# Replace infinite values with NaN and then with a large value\n",
    "df_processed['LossRatio'] = df_processed['LossRatio'].replace([float('inf')], float('nan'))\n",
    "df_processed['LossRatio'] = df_processed['LossRatio'].fillna(0.0)  # Replace NaN with 0\n",
    "\n",
    "print(f\"Processed data shape: {df_processed.shape}\")\n",
    "\n",
    "# Check for derived features\n",
    "print(\"\\nNew columns added:\")\n",
    "new_cols = set(df_processed.columns) - set(df.columns)\n",
    "print(new_cols)"
   ]
  },
  {
   "cell_type": "markdown",
   "metadata": {},
   "source": [
    "## 4. Portfolio Performance Analysis"
   ]
  },
  {
   "cell_type": "code",
   "execution_count": null,
   "metadata": {},
   "outputs": [],
   "source": [
    "# Calculate overall loss ratio\n",
    "overall_loss_ratio = df_processed['TotalClaims'].sum() / df_processed['TotalPremium'].sum()\n",
    "print(f\"Overall Loss Ratio: {overall_loss_ratio:.4f}\")\n",
    "\n",
    "# Calculate claim frequency\n",
    "claim_frequency = (df_processed['TotalClaims'] > 0).mean()\n",
    "print(f\"Claim Frequency: {claim_frequency:.4f} ({claim_frequency*100:.2f}%)\")\n",
    "\n",
    "# Calculate average premium and claim\n",
    "avg_premium = df_processed['TotalPremium'].mean()\n",
    "avg_claim = df_processed[df_processed['TotalClaims'] > 0]['TotalClaims'].mean()\n",
    "print(f\"Average Premium: {avg_premium:.2f}\")\n",
    "print(f\"Average Claim (for policies with claims): {avg_claim:.2f}\")"
   ]
  },
  {
   "cell_type": "markdown",
   "metadata": {},
   "source": [
    "## 5. Segment Analysis"
   ]
  },
  {
   "cell_type": "code",
   "execution_count": null,
   "metadata": {},
   "outputs": [],
   "source": [
    "# Loss ratio by province\n",
    "province_lr = df_processed.groupby('Province')['LossRatio'].mean().sort_values()\n",
    "\n",
    "plt.figure(figsize=(12, 8))\n",
    "ax = province_lr.plot(kind='barh')\n",
    "plt.title('Loss Ratio by Province')\n",
    "plt.xlabel('Loss Ratio (Claims / Premium)')\n",
    "plt.ylabel('Province')\n",
    "plt.axvline(x=1.0, color='red', linestyle='--', label='Break-even point')\n",
    "for i, v in enumerate(province_lr):\n",
    "    ax.text(v + 0.02, i, f'{v:.2f}', va='center')\n",
    "plt.legend()\n",
    "plt.tight_layout()"
   ]
  },
  {
   "cell_type": "code",
   "execution_count": null,
   "metadata": {},
   "outputs": [],
   "source": [
    "# Loss ratio by vehicle type\n",
    "vehicle_lr = df_processed.groupby('VehicleType')['LossRatio'].mean().sort_values()\n",
    "\n",
    "plt.figure(figsize=(12, 8))\n",
    "ax = vehicle_lr.plot(kind='barh')\n",
    "plt.title('Loss Ratio by Vehicle Type')\n",
    "plt.xlabel('Loss Ratio (Claims / Premium)')\n",
    "plt.ylabel('Vehicle Type')\n",
    "plt.axvline(x=1.0, color='red', linestyle='--', label='Break-even point')\n",
    "for i, v in enumerate(vehicle_lr):\n",
    "    ax.text(v + 0.02, i, f'{v:.2f}', va='center')\n",
    "plt.legend()\n",
    "plt.tight_layout()"
   ]
  },
  {
   "cell_type": "code",
   "execution_count": null,
   "metadata": {},
   "outputs": [],
   "source": [
    "# Loss ratio by gender\n",
    "gender_lr = df_processed.groupby('Gender')['LossRatio'].mean().sort_values()\n",
    "\n",
    "plt.figure(figsize=(12, 8))\n",
    "ax = gender_lr.plot(kind='barh')\n",
    "plt.title('Loss Ratio by Gender')\n",
    "plt.xlabel('Loss Ratio (Claims / Premium)')\n",
    "plt.ylabel('Gender')\n",
    "plt.axvline(x=1.0, color='red', linestyle='--', label='Break-even point')\n",
    "for i, v in enumerate(gender_lr):\n",
    "    ax.text(v + 0.02, i, f'{v:.2f}', va='center')\n",
    "plt.legend()\n",
    "plt.tight_layout()"
   ]
  },
  {
   "cell_type": "markdown",
   "metadata": {},
   "source": [
    "## 6. Premium vs Claims Analysis"
   ]
  },
  {
   "cell_type": "code",
   "execution_count": null,
   "metadata": {},
   "outputs": [],
   "source": [
    "# Scatter plot of premium vs claims\n",
    "plt.figure(figsize=(12, 8))\n",
    "ax = sns.scatterplot(data=df_processed, x='TotalPremium', y='TotalClaims', hue='Province', alpha=0.7)\n",
    "max_val = max(df_processed['TotalPremium'].max(), df_processed['TotalClaims'].max())\n",
    "plt.plot([0, max_val], [0, max_val], 'r--', label='Premium = Claims')\n",
    "plt.title('Total Claims vs Total Premium')\n",
    "plt.xlabel('Total Premium')\n",
    "plt.ylabel('Total Claims')\n",
    "plt.legend()\n",
    "plt.tight_layout()"
   ]
  },
  {
   "cell_type": "markdown",
   "metadata": {},
   "source": [
    "## 7. Claim Distribution Analysis"
   ]
  },
  {
   "cell_type": "code",
   "execution_count": null,
   "metadata": {},
   "outputs": [],
   "source": [
    "# Distribution of claim amounts\n",
    "plt.figure(figsize=(12, 8))\n",
    "claims_df = df_processed[df_processed['TotalClaims'] > 0]\n",
    "ax = sns.histplot(data=claims_df, x='TotalClaims', kde=True)\n",
    "mean_claim = claims_df['TotalClaims'].mean()\n",
    "plt.axvline(mean_claim, color='red', linestyle='--', label=f'Mean: {mean_claim:.2f}')\n",
    "median_claim = claims_df['TotalClaims'].median()\n",
    "plt.axvline(median_claim, color='green', linestyle='--', label=f'Median: {median_claim:.2f}')\n",
    "plt.title('Distribution of Claim Amounts')\n",
    "plt.xlabel('Total Claims')\n",
    "plt.ylabel('Frequency')\n",
    "plt.legend()\n",
    "plt.tight_layout()"
   ]
  },
  {
   "cell_type": "markdown",
   "metadata": {},
   "source": [
    "## 8. Vehicle Analysis"
   ]
  },
  {
   "cell_type": "code",
   "execution_count": null,
   "metadata": {},
   "outputs": [],
   "source": [
    "# Analyze vehicle makes by risk\n",
    "vehicle_risk = df_processed.groupby('VehicleMake').agg({\n",
    "    'TotalPremium': 'sum',\n",
    "    'TotalClaims': 'sum',\n",
    "    'PolicyID': 'count'\n",
    "}).rename(columns={'PolicyID': 'PolicyCount'})\n",
    "\n",
    "vehicle_risk['LossRatio'] = vehicle_risk['TotalClaims'] / vehicle_risk['TotalPremium']\n",
    "vehicle_risk['AvgPremium'] = vehicle_risk['TotalPremium'] / vehicle_risk['PolicyCount']\n",
    "vehicle_risk['AvgClaim'] = vehicle_risk['TotalClaims'] / vehicle_risk['PolicyCount']\n",
    "\n",
    "# Sort by loss ratio\n",
    "vehicle_risk_sorted = vehicle_risk.sort_values('LossRatio', ascending=False)\n",
    "vehicle_risk_sorted"
   ]
  },
  {
   "cell_type": "code",
   "execution_count": null,
   "metadata": {},
   "outputs": [],
   "source": [
    "# Plot vehicle makes by loss ratio\n",
    "plt.figure(figsize=(12, 8))\n",
    "sns.barplot(x=vehicle_risk_sorted.index, y='LossRatio', data=vehicle_risk_sorted)\n",
    "plt.axhline(y=1.0, color='red', linestyle='--', label='Break-even point')\n",
    "plt.title('Loss Ratio by Vehicle Make')\n",
    "plt.xlabel('Vehicle Make')\n",
    "plt.ylabel('Loss Ratio')\n",
    "plt.xticks(rotation=45)\n",
    "plt.legend()\n",
    "plt.tight_layout()"
   ]
  },
  {
   "cell_type": "markdown",
   "metadata": {},
   "source": [
    "## 9. Key Insights and Findings"
   ]
  },
  {
   "cell_type": "code",
   "execution_count": null,
   "metadata": {},
   "outputs": [],
   "source": [
    "# Overall portfolio performance\n",
    "overall_loss_ratio = df_processed['TotalClaims'].sum() / df_processed['TotalPremium'].sum()\n",
    "claim_frequency = (df_processed['TotalClaims'] > 0).mean()\n",
    "\n",
    "print(\"1. Overall portfolio performance:\")\n",
    "print(f\"   - Overall loss ratio: {overall_loss_ratio:.4f}\")\n",
    "print(f\"   - Claim frequency: {claim_frequency:.4f} ({claim_frequency*100:.2f}%)\")\n",
    "\n",
    "# Segment insights\n",
    "province_lr = df_processed.groupby('Province')['LossRatio'].mean().sort_values()\n",
    "vehicle_lr = df_processed.groupby('VehicleType')['LossRatio'].mean().sort_values()\n",
    "gender_lr = df_processed.groupby('Gender')['LossRatio'].mean().sort_values()\n",
    "\n",
    "print(\"\\n2. Segment insights:\")\n",
    "print(f\"   - Provinces with lowest risk: {', '.join(province_lr.index[:2])}\")\n",
    "print(f\"   - Vehicle types with lowest risk: {', '.join(vehicle_lr.index[:2])}\")\n",
    "print(f\"   - Gender-based risk differences: {gender_lr.index[0]} has lower risk than {gender_lr.index[-1]}\")\n",
    "\n",
    "# Vehicle insights\n",
    "vehicle_risk = df_processed.groupby('VehicleMake').agg({\n",
    "    'TotalPremium': 'sum',\n",
    "    'TotalClaims': 'sum'\n",
    "})\n",
    "vehicle_risk['LossRatio'] = vehicle_risk['TotalClaims'] / vehicle_risk['TotalPremium']\n",
    "vehicle_risk_sorted = vehicle_risk.sort_values('LossRatio')\n",
    "\n",
    "print(\"\\n3. Vehicle insights:\")\n",
    "print(f\"   - Makes with lowest risk: {', '.join(vehicle_risk_sorted.index[:2])}\")\n",
    "print(f\"   - Makes with highest risk: {', '.join(vehicle_risk_sorted.index[-2:])}\")"
   ]
  },
  {
   "cell_type": "markdown",
   "metadata": {},
   "source": [
    "## 10. Recommendations for Further Analysis\n",
    "\n",
    "Based on our findings, we recommend the following areas for further investigation:\n",
    "\n",
    "1. **Interaction Effects**: Analyze how province and vehicle type interact to affect risk\n",
    "2. **Time-Based Patterns**: Investigate if there are seasonal or temporal patterns in claims\n",
    "3. **Customer Demographics**: Explore additional demographic factors if available\n",
    "4. **Claim Frequency vs. Severity**: Analyze these two components separately\n",
    "5. **Premium Optimization**: Develop a model to optimize premiums based on risk factors"
   ]
  }
 ],
 "metadata": {
  "kernelspec": {
   "display_name": "Python 3",
   "language": "python",
   "name": "python3"
  },
  "language_info": {
   "codemirror_mode": {
    "name": "ipython",
    "version": 3
   },
   "file_extension": ".py",
   "mimetype": "text/x-python",
   "name": "python",
   "nbconvert_exporter": "python",
   "pygments_lexer": "ipython3",
   "version": "3.8.10"
  }
 },
 "nbformat": 4,
 "nbformat_minor": 4
}