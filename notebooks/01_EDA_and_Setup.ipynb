{
 "cells": [
  {
   "cell_type": "markdown",
   "metadata": {},
   "source": [
    "# Task 1: Development Setup & Initial Analysis (EDA)\n",
    "\n",
    "## Project Overview\n",
    "**AlphaCare Insurance Solutions (ACIS) - Insurance Risk Analytics & Predictive Modeling**\n",
    "\n",
    "### Objectives\n",
    "- Analyze historical claims data to identify low-risk customer segments\n",
    "- Develop predictive models for premium optimization\n",
    "- Provide data-driven recommendations for business strategy\n",
    "\n",
    "### Key Business Questions\n",
    "1. What are the risk differences across provinces?\n",
    "2. What are the risk differences between zip codes?\n",
    "3. What are the risk differences between women and men?\n",
    "4. What are the risk differences between different automobile makes?\n",
    "\n",
    "---"
   ]
  },
  {
   "cell_type": "markdown",
   "metadata": {},
   "source": [
    "## 1. Environment Setup"
   ]
  },
  {
   "cell_type": "code",
   "execution_count": null,
   "metadata": {},
   "outputs": [],
   "source": [
    "# Import necessary libraries\n",
    "import pandas as pd\n",
    "import numpy as np\n",
    "import matplotlib.pyplot as plt\n",
    "import seaborn as sns\n",
    "import plotly.express as px\n",
    "import plotly.graph_objects as go\n",
    "from plotly.subplots import make_subplots\n",
    "import warnings\n",
    "import os\n",
    "from datetime import datetime\n",
    "\n",
    "# Configuration\n",
    "warnings.filterwarnings('ignore')\n",
    "sns.set_theme(style='whitegrid')\n",
    "plt.rcParams['figure.figsize'] = (12, 8)\n",
    "plt.rcParams['font.size'] = 12\n",
    "\n",
    "print('✅ Libraries imported successfully')\n",
    "print(f'📊 Pandas version: {pd.__version__}')\n",
    "print(f'🔢 NumPy version: {np.__version__}')"
   ]
  },
  {
   "cell_type": "markdown",
   "metadata": {},
   "source": [
    "## 2. Data Loading & Initial Inspection"
   ]
  },
  {
   "cell_type": "code",
   "execution_count": null,
   "metadata": {},
   "outputs": [],
   "source": [
    "# Load the insurance data\n",
    "# Note: Replace with actual data path when available\n",
    "\n",
    "# For demonstration, we'll generate synthetic data\n",
    "np.random.seed(42)\n",
    "n_samples = 10000\n",
    "\n",
    "# Generate realistic insurance data\n",
    "df = pd.DataFrame({\n",
    "    'PolicyID': range(1, n_samples + 1),\n",
    "    'Province': np.random.choice(['Western Cape', 'Gauteng', 'KwaZulu-Natal', 'Eastern Cape', 'Free State'], n_samples, p=[0.3, 0.25, 0.2, 0.15, 0.1]),\n",
    "    'PostalCode': np.random.randint(1000, 9999, n_samples),\n",
    "    'Gender': np.random.choice(['Male', 'Female'], n_samples, p=[0.52, 0.48]),\n",
    "    'VehicleType': np.random.choice(['Sedan', 'SUV', 'Hatchback', 'Truck', 'Sports'], n_samples, p=[0.4, 0.25, 0.2, 0.1, 0.05]),\n",
    "    'VehicleMake': np.random.choice(['Toyota', 'Volkswagen', 'Ford', 'BMW', 'Mercedes', 'Nissan', 'Hyundai'], n_samples),\n",
    "    'EngineSize': np.random.normal(2.0, 0.5, n_samples),\n",
    "    'CustomValueEstimate': np.random.lognormal(12, 0.5, n_samples),\n",
    "    'TotalPremium': np.random.lognormal(8.5, 0.3, n_samples),\n",
    "    'TotalClaims': np.random.exponential(3000, n_samples) * np.random.binomial(1, 0.15, n_samples),\n",
    "    'PolicyStartDate': pd.date_range(start='2014-02-01', periods=n_samples, freq='D')[:n_samples]\n",
    "})\n",
    "\n",
    "# Clean and format data\n",
    "df['EngineSize'] = np.clip(df['EngineSize'], 1.0, 6.0)\n",
    "df['CustomValueEstimate'] = np.clip(df['CustomValueEstimate'], 50000, 2000000)\n",
    "df['TotalPremium'] = np.clip(df['TotalPremium'], 1000, 50000)\n",
    "\n",
    "print(f'📈 Dataset created with {df.shape[0]:,} records and {df.shape[1]} features')\n",
    "print(f'📅 Date range: {df[\"PolicyStartDate\"].min()} to {df[\"PolicyStartDate\"].max()}')"
   ]
  },
  {
   "cell_type": "code",
   "execution_count": null,
   "metadata": {},
   "outputs": [],
   "source": [
    "# Dataset overview\n",
    "print('📊 DATASET OVERVIEW')\n",
    "print('=' * 50)\n",
    "print(f'Shape: {df.shape}')\n",
    "print(f'Memory usage: {df.memory_usage(deep=True).sum() / 1024**2:.2f} MB')\n",
    "print()\n",
    "\n",
    "print('📋 COLUMN INFORMATION')\n",
    "print('=' * 50)\n",
    "df.info()\n",
    "print()\n",
    "\n",
    "print('🔍 MISSING VALUES')\n",
    "print('=' * 50)\n",
    "missing_data = df.isnull().sum()\n",
    "missing_percent = (missing_data / len(df)) * 100\n",
    "missing_df = pd.DataFrame({\n",
    "    'Missing Count': missing_data,\n",
    "    'Missing Percentage': missing_percent\n",
    "})\n",
    "print(missing_df[missing_df['Missing Count'] > 0])"
   ]
  },
  {
   "cell_type": "code",
   "execution_count": null,
   "metadata": {},
   "outputs": [],
   "source": [
    "# Display sample data\n",
    "print('📋 SAMPLE DATA')\n",
    "print('=' * 50)\n",
    "display(df.head(10))\n",
    "print()\n",
    "\n",
    "print('📊 STATISTICAL SUMMARY')\n",
    "print('=' * 50)\n",
    "display(df.describe())"
   ]
  },
  {
   "cell_type": "markdown",
   "metadata": {},
   "source": [
    "## 3. Exploratory Data Analysis\n",
    "\n",
    "### 3.1 Univariate Analysis"
   ]
  },
  {
   "cell_type": "code",
   "execution_count": null,
   "metadata": {},
   "outputs": [],
   "source": [
    "# Categorical variables distribution\n",
    "fig, axes = plt.subplots(2, 3, figsize=(18, 12))\n",
    "fig.suptitle('Distribution of Categorical Variables', fontsize=16, fontweight='bold')\n",
    "\n",
    "categorical_cols = ['Province', 'Gender', 'VehicleType', 'VehicleMake']\n",
    "\n",
    "for i, col in enumerate(categorical_cols):\n",
    "    row = i // 3\n",
    "    col_idx = i % 3\n",
    "    \n",
    "    value_counts = df[col].value_counts()\n",
    "    axes[row, col_idx].bar(value_counts.index, value_counts.values, color=sns.color_palette('viridis', len(value_counts)))\n",
    "    axes[row, col_idx].set_title(f'{col} Distribution', fontweight='bold')\n",
    "    axes[row, col_idx].set_xlabel(col)\n",
    "    axes[row, col_idx].set_ylabel('Count')\n",
    "    axes[row, col_idx].tick_params(axis='x', rotation=45)\n",
    "    \n",
    "    # Add value labels on bars\n",
    "    for j, v in enumerate(value_counts.values):\n",
    "        axes[row, col_idx].text(j, v + max(value_counts.values) * 0.01, str(v), ha='center', va='bottom')\n",
    "\n",
    "# Remove empty subplots\n",
    "for i in range(len(categorical_cols), 6):\n",
    "    row = i // 3\n",
    "    col_idx = i % 3\n",
    "    fig.delaxes(axes[row, col_idx])\n",
    "\n",
    "plt.tight_layout()\n",
    "plt.show()"
   ]
  },
  {
   "cell_type": "code",
   "execution_count": null,
   "metadata": {},
   "outputs": [],
   "source": [
    "# Numerical variables distribution\n",
    "fig, axes = plt.subplots(2, 2, figsize=(16, 12))\n",
    "fig.suptitle('Distribution of Numerical Variables', fontsize=16, fontweight='bold')\n",
    "\n",
    "numerical_cols = ['EngineSize', 'CustomValueEstimate', 'TotalPremium', 'TotalClaims']\n",
    "\n",
    "for i, col in enumerate(numerical_cols):\n",
    "    row = i // 2\n",
    "    col_idx = i % 2\n",
    "    \n",
    "    axes[row, col_idx].hist(df[col], bins=50, alpha=0.7, color='skyblue', edgecolor='black')\n",
    "    axes[row, col_idx].set_title(f'{col} Distribution', fontweight='bold')\n",
    "    axes[row, col_idx].set_xlabel(col)\n",
    "    axes[row, col_idx].set_ylabel('Frequency')\n",
    "    axes[row, col_idx].grid(True, alpha=0.3)\n",
    "    \n",
    "    # Add statistics\n",
    "    mean_val = df[col].mean()\n",
    "    median_val = df[col].median()\n",
    "    axes[row, col_idx].axvline(mean_val, color='red', linestyle='--', label=f'Mean: {mean_val:.2f}')\n",
    "    axes[row, col_idx].axvline(median_val, color='green', linestyle='--', label=f'Median: {median_val:.2f}')\n",
    "    axes[row, col_idx].legend()\n",
    "\n",
    "plt.tight_layout()\n",
    "plt.show()"
   ]
  },
  {
   "cell_type": "markdown",
   "metadata": {},
   "source": [
    "### 3.2 Risk Analysis by Key Segments"
   ]
  },
  {
   "cell_type": "code",
   "execution_count": null,
   "metadata": {},
   "outputs": [],
   "source": [
    "# Calculate loss ratio (Claims/Premium) for risk assessment\n",
    "df['LossRatio'] = df['TotalClaims'] / df['TotalPremium']\n",
    "df['HasClaim'] = (df['TotalClaims'] > 0).astype(int)\n",
    "\n",
    "print('📊 RISK METRICS SUMMARY')\n",
    "print('=' * 50)\n",
    "print(f'Overall Loss Ratio: {df[\"LossRatio\"].mean():.3f}')\n",
    "print(f'Claim Frequency: {df[\"HasClaim\"].mean():.3f}')\n",
    "print(f'Average Claim Amount: ${df[df[\"TotalClaims\"] > 0][\"TotalClaims\"].mean():,.2f}')\n",
    "print(f'Average Premium: ${df[\"TotalPremium\"].mean():,.2f}')"
   ]
  },
  {
   "cell_type": "code",
   "execution_count": null,
   "metadata": {},
   "outputs": [],
   "source": [
    "# Risk analysis by Province\n",
    "province_risk = df.groupby('Province').agg({\n",
    "    'LossRatio': ['mean', 'std'],\n",
    "    'HasClaim': 'mean',\n",
    "    'TotalPremium': 'mean',\n",
    "    'TotalClaims': 'mean',\n",
    "    'PolicyID': 'count'\n",
    "}).round(3)\n",
    "\n",
    "province_risk.columns = ['Avg_Loss_Ratio', 'Loss_Ratio_Std', 'Claim_Frequency', 'Avg_Premium', 'Avg_Claims', 'Policy_Count']\n",
    "province_risk = province_risk.sort_values('Avg_Loss_Ratio', ascending=False)\n",
    "\n",
    "print('🌍 RISK ANALYSIS BY PROVINCE')\n",
    "print('=' * 60)\n",
    "display(province_risk)"
   ]
  },
  {
   "cell_type": "code",
   "execution_count": null,
   "metadata": {},
   "outputs": [],
   "source": [
    "# Risk analysis by Gender\n",
    "gender_risk = df.groupby('Gender').agg({\n",
    "    'LossRatio': ['mean', 'std'],\n",
    "    'HasClaim': 'mean',\n",
    "    'TotalPremium': 'mean',\n",
    "    'TotalClaims': 'mean',\n",
    "    'PolicyID': 'count'\n",
    "}).round(3)\n",
    "\n",
    "gender_risk.columns = ['Avg_Loss_Ratio', 'Loss_Ratio_Std', 'Claim_Frequency', 'Avg_Premium', 'Avg_Claims', 'Policy_Count']\n",
    "gender_risk = gender_risk.sort_values('Avg_Loss_Ratio', ascending=False)\n",
    "\n",
    "print('👥 RISK ANALYSIS BY GENDER')\n",
    "print('=' * 50)\n",
    "display(gender_risk)"
   ]
  },
  {
   "cell_type": "code",
   "execution_count": null,
   "metadata": {},
   "outputs": [],
   "source": [
    "# Risk analysis by Vehicle Make\n",
    "vehicle_risk = df.groupby('VehicleMake').agg({\n",
    "    'LossRatio': ['mean', 'std'],\n",
    "    'HasClaim': 'mean',\n",
    "    'TotalPremium': 'mean',\n",
    "    'TotalClaims': 'mean',\n",
    "    'PolicyID': 'count'\n",
    "}).round(3)\n",
    "\n",
    "vehicle_risk.columns = ['Avg_Loss_Ratio', 'Loss_Ratio_Std', 'Claim_Frequency', 'Avg_Premium', 'Avg_Claims', 'Policy_Count']\n",
    "vehicle_risk = vehicle_risk.sort_values('Avg_Loss_Ratio', ascending=False)\n",
    "\n",
    "print('🚗 RISK ANALYSIS BY VEHICLE MAKE')\n",
    "print('=' * 60)\n",
    "display(vehicle_risk)"
   ]
  },
  {
   "cell_type": "markdown",
   "metadata": {},
   "source": [
    "### 3.3 Advanced Visualizations"
   ]
  },
  {
   "cell_type": "code",
   "execution_count": null,
   "metadata": {},
   "outputs": [],
   "source": [
    "# Interactive risk heatmap by Province and Vehicle Type\n",
    "risk_matrix = df.groupby(['Province', 'VehicleType'])['LossRatio'].mean().unstack(fill_value=0)\n",
    "\n",
    "fig = go.Figure(data=go.Heatmap(\n",
    "    z=risk_matrix.values,\n",
    "    x=risk_matrix.columns,\n",
    "    y=risk_matrix.index,\n",
    "    colorscale='RdYlBu_r',\n",
    "    text=risk_matrix.values,\n",
    "    texttemplate='%{text:.3f}',\n",
    "    textfont={'size': 12},\n",
    "    hoverongaps=False\n",
    "))\n",
    "\n",
    "fig.update_layout(\n",
    "    title='Risk Heatmap: Loss Ratio by Province and Vehicle Type',\n",
    "    xaxis_title='Vehicle Type',\n",
    "    yaxis_title='Province',\n",
    "    width=800,\n",
    "    height=500\n",
    ")\n",
    "\n",
    "fig.show()"
   ]
  },
  {
   "cell_type": "code",
   "execution_count": null,
   "metadata": {},
   "outputs": [],
   "source": [
    "# Premium vs Claims scatter plot with trend analysis\n",
    "fig = px.scatter(\n",
    "    df, \n",
    "    x='TotalPremium', \n",
    "    y='TotalClaims',\n",
    "    color='Province',\n",
    "    size='CustomValueEstimate',\n",
    "    hover_data=['VehicleMake', 'VehicleType', 'Gender'],\n",
    "    title='Premium vs Claims Analysis by Province',\n",
    "    labels={'TotalPremium': 'Total Premium ($)', 'TotalClaims': 'Total Claims ($)'},\n",
    "    trendline='ols'\n",
    ")\n",
    "\n",
    "fig.update_layout(width=1000, height=600)\n",
    "fig.show()"
   ]
  },
  {
   "cell_type": "markdown",
   "metadata": {},
   "source": [
    "## 4. Key Insights & Initial Findings\n",
    "\n",
    "### Summary of EDA Results\n",
    "\n",
    "**Risk Differences Across Provinces:**\n",
    "- [To be filled based on analysis results]\n",
    "\n",
    "**Risk Differences by Gender:**\n",
    "- [To be filled based on analysis results]\n",
    "\n",
    "**Risk Differences by Vehicle Make:**\n",
    "- [To be filled based on analysis results]\n",
    "\n",
    "**Low-Risk Segments Identified:**\n",
    "- [To be filled based on analysis results]\n",
    "\n",
    "### Next Steps\n",
    "1. Statistical hypothesis testing to validate findings\n",
    "2. Feature engineering for predictive modeling\n",
    "3. Model development and validation\n",
    "4. Business recommendations"
   ]
  },
  {
   "cell_type": "code",
   "execution_count": null,
   "metadata": {},
   "outputs": [],
   "source": [
    "# Save processed data for next tasks\n",
    "output_path = '../data/processed/'\n",
    "os.makedirs(output_path, exist_ok=True)\n",
    "\n",
    "df.to_csv(f'{output_path}insurance_data_processed.csv', index=False)\n",
    "print(f'✅ Processed data saved to {output_path}insurance_data_processed.csv')\n",
    "\n",
    "# Save summary statistics\n",
    "summary_stats = {\n",
    "    'province_risk': province_risk,\n",
    "    'gender_risk': gender_risk,\n",
    "    'vehicle_risk': vehicle_risk\n",
    "}\n",
    "\n",
    "with pd.ExcelWriter(f'{output_path}eda_summary_statistics.xlsx') as writer:\n",
    "    for sheet_name, data in summary_stats.items():\n",
    "        data.to_excel(writer, sheet_name=sheet_name)\n",
    "\n",
    "print('✅ EDA Summary statistics saved to Excel file')\n",
    "print('\n🎉 Task 1: EDA and Setup completed successfully!')"
   ]
  }
 ],
 "metadata": {
  "kernelspec": {
   "display_name": "Python 3",
   "language": "python",
   "name": "python3"
  },
  "language_info": {
   "codemirror_mode": {
    "name": "ipython",
    "version": 3
   },
   "file_extension": ".py",
   "mimetype": "text/x-python",
   "name": "python",
   "nbconvert_exporter": "python",
   "pygments_lexer": "ipython3",
   "version": "3.8.0"
  }
 },
 "nbformat": 4,
 "nbformat_minor": 4
}